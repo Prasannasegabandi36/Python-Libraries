{
 "cells": [
  {
   "cell_type": "code",
   "execution_count": 3,
   "metadata": {},
   "outputs": [
    {
     "name": "stdout",
     "output_type": "stream",
     "text": [
      "the prime numbers in the range are:\n",
      "11\n",
      "13\n",
      "17\n",
      "19\n",
      "23\n",
      "29\n",
      "31\n",
      "37\n"
     ]
    }
   ],
   "source": [
    "lower_value= int(input(\"enter the lowest Rangevalue:\"))\n",
    "upper_value=int(input(\"enter the upper Range value:\"))\n",
    "print(\"the prime numbers in the range are:\")\n",
    "for n in range (lower_value,upper_value):\n",
    "    if n>1:\n",
    "        for i in range (2,n):\n",
    "             if (n%i)==0:\n",
    "                        break\n",
    "        else:\n",
    "          print(n)"
   ]
  },
  {
   "cell_type": "code",
   "execution_count": 10,
   "metadata": {},
   "outputs": [
    {
     "name": "stdout",
     "output_type": "stream",
     "text": [
      "the multiplication table of: 2000\n",
      "2000 x 1 = 2000\n",
      "2000 x 2 = 4000\n",
      "2000 x 3 = 6000\n",
      "2000 x 4 = 8000\n",
      "2000 x 5 = 10000\n",
      "2000 x 6 = 12000\n",
      "2000 x 7 = 14000\n",
      "2000 x 8 = 16000\n",
      "2000 x 9 = 18000\n",
      "2000 x 10 = 20000\n"
     ]
    }
   ],
   "source": [
    "number= int(input (\"Enter the number of which the user wants to print the muultiplicationtable:\"))\n",
    "print(\"the multiplication table of:\",number)\n",
    "for count in range(1,11):\n",
    "    print(number,'x', count,'=', number*count)"
   ]
  },
  {
   "cell_type": "code",
   "execution_count": 16,
   "metadata": {},
   "outputs": [
    {
     "name": "stdout",
     "output_type": "stream",
     "text": [
      "addition of two complex numbers:  (3+1j)\n",
      "multiplication of two complex numbers: (8-1j)\n"
     ]
    }
   ],
   "source": [
    "a=complex(input(\"enter a values:\"))\n",
    "b=complex(input(\"enter b value:\"))\n",
    "print(\"addition of two complex numbers: \",a+b)\n",
    "print(\"multiplication of two complex numbers:\",a*b)"
   ]
  },
  {
   "cell_type": "code",
   "execution_count": 18,
   "metadata": {},
   "outputs": [
    {
     "name": "stdout",
     "output_type": "stream",
     "text": [
      "Given List \n",
      " l2= [1, 2, 3, 5, 6]\n",
      "----------------------\n",
      "append() function:\n",
      "l2= [1, 2, 3, 5, 6, [7, 8, 9]]\n",
      "----------------------\n",
      "extend() function:\n",
      "l2= [1, 2, 3, 5, 6, [7, 8, 9], 10, 11, 12]\n",
      "----------------------\n",
      "delete function:\n",
      "l2= [1, 2, 6, [7, 8, 9], 10, 11, 12]\n",
      "----------------------\n",
      "count() function:\n",
      "count of element 2 is= 4\n",
      "----------------------\n",
      "sort() function:\n",
      "l3= [1, 1, 2, 2, 2, 2, 4, 4, 5, 6, 6, 8]\n",
      "----------------------\n",
      "reverse() function:\n",
      "l3= [8, 6, 6, 5, 4, 4, 2, 2, 2, 2, 1, 1]\n"
     ]
    }
   ],
   "source": [
    "#Python Buil-in functions\n",
    "l1=[1,2,3,5,6]\n",
    "l2=l1.copy()\n",
    "print('Given List \\n l2=',l2)\n",
    "print('----------------------')\n",
    "print('append() function:')\n",
    "l2.append([7,8,9])\n",
    "print('l2=',l2)\n",
    "print('----------------------')\n",
    "print('extend() function:')\n",
    "l2.extend([10,11,12])\n",
    "print('l2=',l2)\n",
    "print('----------------------')\n",
    "print('delete function:')\n",
    "del l2[2:4]\n",
    "print('l2=',l2)\n",
    "l3=[1,2,4,2,6,2,4,5,6,1,2,8]\n",
    "print('----------------------')\n",
    "print('count() function:')\n",
    "print('count of element 2 is=',l3.count(2))\n",
    "print('----------------------')\n",
    "print('sort() function:')\n",
    "l3.sort()\n",
    "print('l3=',l3)\n",
    "print('----------------------')\n",
    "print('reverse() function:')\n",
    "l3.reverse()\n",
    "print('l3=',l3)"
   ]
  },
  {
   "cell_type": "code",
   "execution_count": 30,
   "metadata": {},
   "outputs": [
    {
     "name": "stdout",
     "output_type": "stream",
     "text": [
      "11[2:5]= [30, 40, 50]\n",
      "11[:]= [10, 20, 30, 40, 50, 60]\n",
      "11[2:]= [30, 40, 50, 60]\n",
      "11[:5]= [10, 20, 30, 40, 50]\n",
      "12[2][1:]= ['d', 'e']\n"
     ]
    }
   ],
   "source": [
    "#slicing operator(:)\n",
    "#positive Indexing\n",
    "l1=[10,20,30,40,50,60]\n",
    "print('11[2:5]=',l1[2:5])\n",
    "print('11[:]=',l1[:])\n",
    "print('11[2:]=',l1[2:])\n",
    "print('11[:5]=',l1[:5])\n",
    "l2=['a','b',['c','d','e'],'f','g']\n",
    "print('12[2][1:]=',l2[2][1:])"
   ]
  },
  {
   "cell_type": "code",
   "execution_count": 31,
   "metadata": {},
   "outputs": [
    {
     "name": "stdout",
     "output_type": "stream",
     "text": [
      "11[-4:-1]= [30, 40, 50]\n",
      "11[:]= [10, 20, 30, 40, 50, 60]\n",
      "11[-4]= [30, 40, 50, 60]\n",
      "11[:-1]= [10, 20, 30, 40, 50]\n",
      "12[-3][-2:]= ['d', 'e']\n"
     ]
    }
   ],
   "source": [
    "#slicing operator(:)\n",
    "#negative Indexing\n",
    "l1=[10,20,30,40,50,60]\n",
    "print('11[-4:-1]=',l1[-4:-1])\n",
    "print('11[:]=',l1[:])\n",
    "print('11[-4]=',l1[-4:])\n",
    "print('11[:-1]=',l1[:-1])\n",
    "l2=['a','b',['c','d','e'],'f','g']\n",
    "print('12[-3][-2:]=',l2[-3][-2:])"
   ]
  },
  {
   "cell_type": "code",
   "execution_count": 32,
   "metadata": {},
   "outputs": [
    {
     "name": "stdout",
     "output_type": "stream",
     "text": [
      "List: ['a', 'e', 'i', 'o', 'u']\n"
     ]
    }
   ],
   "source": [
    "# create a list of vowels\n",
    "vowel = ['a', 'e', 'i', 'u']\n",
    "# 'o' is inserted at index 3 (4th position)\n",
    "vowel.insert(3, 'o')\n",
    "print('List:', vowel)"
   ]
  },
  {
   "cell_type": "code",
   "execution_count": 33,
   "metadata": {},
   "outputs": [
    {
     "name": "stdout",
     "output_type": "stream",
     "text": [
      "the sub string is in given string\n"
     ]
    }
   ],
   "source": [
    "str=input(\"enter string: \")\n",
    "sub_str=input(\"enter the sub string:\")\n",
    "if(str.find(sub_str)==-1):\n",
    "    print(\"the sub string is not in given string\")\n",
    "else:\n",
    "    print(\"the sub string is in given string\")    "
   ]
  },
  {
   "cell_type": "code",
   "execution_count": 35,
   "metadata": {},
   "outputs": [
    {
     "name": "stdout",
     "output_type": "stream",
     "text": [
      "length of the string is: 10\n"
     ]
    }
   ],
   "source": [
    "str=input(\"enter string:\")\n",
    "count=0\n",
    "for i in str:\n",
    "    count=count+1\n",
    "print(\"length of the string is:\",count)"
   ]
  },
  {
   "cell_type": "code",
   "execution_count": 38,
   "metadata": {},
   "outputs": [
    {
     "name": "stdout",
     "output_type": "stream",
     "text": [
      "addition of 2 and 3 is: 5\n",
      "addition of 2 and 8 is: 10\n",
      "addition of 7 and 8 is: 15\n"
     ]
    }
   ],
   "source": [
    "def add_numbers(a = 7, b = 8):\n",
    "     sum=a+b\n",
    "     print('addition of',a,'and',b,'is:',sum)\n",
    "add_numbers(2,3)\n",
    "add_numbers(2)\n",
    "add_numbers()"
   ]
  },
  {
   "cell_type": "code",
   "execution_count": 39,
   "metadata": {},
   "outputs": [
    {
     "ename": "NameError",
     "evalue": "name 'bprint' is not defined",
     "output_type": "error",
     "traceback": [
      "\u001b[1;31m---------------------------------------------------------------------------\u001b[0m",
      "\u001b[1;31mNameError\u001b[0m                                 Traceback (most recent call last)",
      "Cell \u001b[1;32mIn[39], line 4\u001b[0m\n\u001b[0;32m      2\u001b[0m     \u001b[38;5;28msum\u001b[39m\u001b[38;5;241m=\u001b[39ma\u001b[38;5;241m+\u001b[39mbprint(\u001b[38;5;124m'\u001b[39m\u001b[38;5;124msum:\u001b[39m\u001b[38;5;124m'\u001b[39m,\u001b[38;5;28msum\u001b[39m)\n\u001b[0;32m      3\u001b[0m \u001b[38;5;66;03m# function call with two arguments\u001b[39;00m\n\u001b[1;32m----> 4\u001b[0m \u001b[43madd_numbers\u001b[49m\u001b[43m(\u001b[49m\u001b[38;5;241;43m2\u001b[39;49m\u001b[43m,\u001b[49m\u001b[38;5;241;43m3\u001b[39;49m\u001b[43m)\u001b[49m\n\u001b[0;32m      5\u001b[0m \u001b[38;5;66;03m# function call with one argument\u001b[39;00m\n\u001b[0;32m      6\u001b[0m add_numbers(\u001b[38;5;241m2\u001b[39m)\n",
      "Cell \u001b[1;32mIn[39], line 2\u001b[0m, in \u001b[0;36madd_numbers\u001b[1;34m(a, b)\u001b[0m\n\u001b[0;32m      1\u001b[0m \u001b[38;5;28;01mdef\u001b[39;00m \u001b[38;5;21madd_numbers\u001b[39m(a\u001b[38;5;241m=\u001b[39m\u001b[38;5;241m7\u001b[39m,b\u001b[38;5;241m=\u001b[39m\u001b[38;5;241m8\u001b[39m):\n\u001b[1;32m----> 2\u001b[0m     \u001b[38;5;28msum\u001b[39m\u001b[38;5;241m=\u001b[39ma\u001b[38;5;241m+\u001b[39m\u001b[43mbprint\u001b[49m(\u001b[38;5;124m'\u001b[39m\u001b[38;5;124msum:\u001b[39m\u001b[38;5;124m'\u001b[39m,\u001b[38;5;28msum\u001b[39m)\n",
      "\u001b[1;31mNameError\u001b[0m: name 'bprint' is not defined"
     ]
    }
   ],
   "source": [
    "def add_numbers(a=7,b=8):\n",
    "    sum=a+bprint('sum:',sum)\n",
    "# function call with two arguments\n",
    "add_numbers(2,3)\n",
    "# function call with one argument\n",
    "add_numbers(2)\n",
    "# function call with no arguments\n",
    "add_numbers()"
   ]
  }
 ],
 "metadata": {
  "kernelspec": {
   "display_name": "Python 3",
   "language": "python",
   "name": "python3"
  },
  "language_info": {
   "codemirror_mode": {
    "name": "ipython",
    "version": 3
   },
   "file_extension": ".py",
   "mimetype": "text/x-python",
   "name": "python",
   "nbconvert_exporter": "python",
   "pygments_lexer": "ipython3",
   "version": "3.13.0"
  }
 },
 "nbformat": 4,
 "nbformat_minor": 2
}
