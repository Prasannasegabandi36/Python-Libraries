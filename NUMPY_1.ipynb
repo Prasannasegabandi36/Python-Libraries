{
 "cells": [
  {
   "cell_type": "code",
   "execution_count": 1,
   "metadata": {},
   "outputs": [
    {
     "name": "stdout",
     "output_type": "stream",
     "text": [
      "0\n"
     ]
    }
   ],
   "source": [
    "import numpy as np\n",
    "arr = np.random.randint(2, size = (10,))\n",
    "indx = np.where(arr==2)[0]\n",
    "print(len(indx))"
   ]
  },
  {
   "cell_type": "code",
   "execution_count": 2,
   "metadata": {},
   "outputs": [
    {
     "name": "stdout",
     "output_type": "stream",
     "text": [
      "0,4,8,"
     ]
    }
   ],
   "source": [
    "x = np.arange(9).reshape((3,3))\n",
    "for x in np.diag(x):\n",
    "    print(x, end=\",\")"
   ]
  },
  {
   "cell_type": "code",
   "execution_count": 3,
   "metadata": {},
   "outputs": [
    {
     "name": "stdout",
     "output_type": "stream",
     "text": [
      "9 8 7 6 5 4 3 2 1 "
     ]
    }
   ],
   "source": [
    "import numpy as np\n",
    "data = np.array([1, 2, 3, 4, 5, 6, 7, 8, 9])\n",
    "for x in data[::-1]:\n",
    "    print(x, end=\" \")"
   ]
  },
  {
   "cell_type": "code",
   "execution_count": 4,
   "metadata": {},
   "outputs": [
    {
     "name": "stdout",
     "output_type": "stream",
     "text": [
      "2.5,1.0,4.0,"
     ]
    }
   ],
   "source": [
    "import numpy as np\n",
    "a = np.array([[3, 2], [3, -1], [3, 5]])\n",
    "for x in a.mean(axis=1):\n",
    "    print(x, end=',')"
   ]
  },
  {
   "cell_type": "code",
   "execution_count": 5,
   "metadata": {},
   "outputs": [
    {
     "name": "stdout",
     "output_type": "stream",
     "text": [
      "(2, 3)\n"
     ]
    }
   ],
   "source": [
    "import numpy as np\n",
    "\n",
    "a = np.array([[1, 2, 3],[4, 5, 6]])\n",
    "b = a.reshape(2,-1)\n",
    "print(b.shape)"
   ]
  },
  {
   "cell_type": "code",
   "execution_count": 6,
   "metadata": {},
   "outputs": [
    {
     "name": "stdout",
     "output_type": "stream",
     "text": [
      "x[0] = 2, x[1] = 3, "
     ]
    }
   ],
   "source": [
    "from scipy.optimize import minimize\n",
    "\n",
    "# Define the objective function\n",
    "def objective_function(x):\n",
    "    return (x[0] - 2) ** 2 + (x[1] - 3) ** 2\n",
    "\n",
    "initial_guess = [0, 0]\n",
    "result = minimize(objective_function, initial_guess)\n",
    "\n",
    "for indx, val in enumerate(result.x):\n",
    "    print(f'x[{indx}] = {round(val)}', end=', ')"
   ]
  },
  {
   "cell_type": "code",
   "execution_count": 7,
   "metadata": {},
   "outputs": [
    {
     "name": "stdout",
     "output_type": "stream",
     "text": [
      "(2, 3)\n"
     ]
    }
   ],
   "source": [
    "a = np.array([1, 2, 3])\n",
    "b = np.array([4, 5, 6])\n",
    "c = np.vstack((a,b))\n",
    "print(c.shape)"
   ]
  },
  {
   "cell_type": "code",
   "execution_count": 8,
   "metadata": {},
   "outputs": [
    {
     "name": "stdout",
     "output_type": "stream",
     "text": [
      "Array : [ 1  2  3  4  5  6  7  8  9 10 11 12 13 14 15 16]\n",
      "Reshaped 3-D Array : \n",
      "[[[ 1  2]\n",
      "  [ 3  4]\n",
      "  [ 5  6]\n",
      "  [ 7  8]]\n",
      "\n",
      " [[ 9 10]\n",
      "  [11 12]\n",
      "  [13 14]\n",
      "  [15 16]]]\n"
     ]
    }
   ],
   "source": [
    "# importing numpy\n",
    "import numpy as np\n",
    "\n",
    "# creating a numpy array\n",
    "array = np.array([1, 2, 3, 4, 5, 6, 7, 8, 9, 10, 11, 12, 13, 14, 15, 16])\n",
    "\n",
    "# printing array\n",
    "print(\"Array : \" + str(array))\n",
    "\n",
    "\n",
    "# reshaping numpy array\n",
    "# converting it to 3-D from 1-D array\n",
    "reshaped = array.reshape((2, 4, 2))\n",
    "\n",
    "# printing reshaped array\n",
    "print(\"Reshaped 3-D Array : \")\n",
    "print(reshaped)\n"
   ]
  },
  {
   "cell_type": "code",
   "execution_count": 9,
   "metadata": {},
   "outputs": [
    {
     "name": "stdout",
     "output_type": "stream",
     "text": [
      " 2-D Array : \n",
      "[[1 2 3]\n",
      " [4 5 6]\n",
      " [7 8 9]]\n",
      "Reshaped 1-D Array : \n",
      "[[1 2 3]\n",
      " [4 5 6]\n",
      " [7 8 9]]\n"
     ]
    }
   ],
   "source": [
    "# importing numpy\n",
    "import numpy as np\n",
    "\n",
    "# creating a numpy array\n",
    "array = np.array([[1, 2, 3],\n",
    "\t\t\t\t[4, 5, 6],\n",
    "\t\t\t\t[7, 8, 9]])\n",
    "\n",
    "# printing array\n",
    "print(\" 2-D Array : \")\n",
    "print(array)\n",
    "\n",
    "\n",
    "# reshaping numpy array\n",
    "# converting it to 1-D from 2-D array\n",
    "# reshaping it into 1, 5\n",
    "reshaped = array.reshape((3, 3))\n",
    "\n",
    "# or we can use \n",
    "\n",
    "# printing reshaped array\n",
    "print(\"Reshaped 1-D Array : \")\n",
    "print(reshaped)\n"
   ]
  },
  {
   "cell_type": "code",
   "execution_count": 10,
   "metadata": {},
   "outputs": [
    {
     "name": "stdout",
     "output_type": "stream",
     "text": [
      "None\n"
     ]
    }
   ],
   "source": [
    "# import the important module in python \n",
    "import numpy as np \n",
    "\t\t\n",
    "# make matrix with numpy \n",
    "gfg = np.matrix('[64, 1; 12, 3]') \n",
    "\t\t\n",
    "# applying matrix.resize() method \n",
    "geeks = gfg.resize((1, 4)) \n",
    "\t\n",
    "print(geeks) \n"
   ]
  },
  {
   "cell_type": "code",
   "execution_count": 11,
   "metadata": {},
   "outputs": [
    {
     "name": "stdout",
     "output_type": "stream",
     "text": [
      "None\n"
     ]
    }
   ],
   "source": [
    "# import the important module in python \n",
    "import numpy as np \n",
    "\t\t\n",
    "# make matrix with numpy \n",
    "gfg = np.matrix('[64, 1; 12, 3]') \n",
    "\t\t\n",
    "# applying matrix.resize() method \n",
    "geeks = gfg.resize((1, 4)) \n",
    "\t\n",
    "print(geeks) \n"
   ]
  },
  {
   "cell_type": "code",
   "execution_count": null,
   "metadata": {},
   "outputs": [],
   "source": []
  },
  {
   "cell_type": "code",
   "execution_count": null,
   "metadata": {},
   "outputs": [],
   "source": []
  },
  {
   "cell_type": "code",
   "execution_count": null,
   "metadata": {},
   "outputs": [],
   "source": []
  },
  {
   "cell_type": "code",
   "execution_count": null,
   "metadata": {},
   "outputs": [],
   "source": []
  },
  {
   "cell_type": "code",
   "execution_count": null,
   "metadata": {},
   "outputs": [],
   "source": []
  },
  {
   "cell_type": "code",
   "execution_count": null,
   "metadata": {},
   "outputs": [],
   "source": []
  },
  {
   "cell_type": "code",
   "execution_count": null,
   "metadata": {},
   "outputs": [],
   "source": []
  },
  {
   "cell_type": "code",
   "execution_count": null,
   "metadata": {},
   "outputs": [],
   "source": []
  }
 ],
 "metadata": {
  "kernelspec": {
   "display_name": "Python 3",
   "language": "python",
   "name": "python3"
  },
  "language_info": {
   "codemirror_mode": {
    "name": "ipython",
    "version": 3
   },
   "file_extension": ".py",
   "mimetype": "text/x-python",
   "name": "python",
   "nbconvert_exporter": "python",
   "pygments_lexer": "ipython3",
   "version": "3.12.3"
  }
 },
 "nbformat": 4,
 "nbformat_minor": 2
}
