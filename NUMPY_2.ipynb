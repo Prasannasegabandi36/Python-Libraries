{
 "cells": [
  {
   "cell_type": "code",
   "execution_count": 21,
   "metadata": {},
   "outputs": [
    {
     "name": "stdout",
     "output_type": "stream",
     "text": [
      "[[[1 2 3]\n",
      "  [2 6 7]]\n",
      "\n",
      " [[2 3 4]\n",
      "  [4 6 7]]]\n",
      "3\n",
      "1\n",
      "<class 'numpy.ndarray'>\n"
     ]
    }
   ],
   "source": [
    "import numpy as np\n",
    "a = np.array([[[1,2,3],[2,6,7]],[[2,3,4],[4,6,7]]])\n",
    "b = np.array([1,2,3])\n",
    "print(a)\n",
    "print(a.ndim)\n",
    "print(b.ndim)\n",
    "print(type(a))"
   ]
  },
  {
   "cell_type": "markdown",
   "metadata": {},
   "source": []
  },
  {
   "cell_type": "code",
   "execution_count": 5,
   "metadata": {},
   "outputs": [
    {
     "name": "stdout",
     "output_type": "stream",
     "text": [
      "[2 3]\n"
     ]
    }
   ],
   "source": [
    "import numpy as np\n",
    "a = np.array([2,3])\n",
    "print(a)"
   ]
  },
  {
   "cell_type": "code",
   "execution_count": 1,
   "metadata": {},
   "outputs": [
    {
     "name": "stdout",
     "output_type": "stream",
     "text": [
      "[10 20 30]\n"
     ]
    }
   ],
   "source": [
    "import numpy as np\n",
    "a = np.asarray([10,20,30])\n",
    "print(a)"
   ]
  },
  {
   "cell_type": "code",
   "execution_count": 1,
   "metadata": {},
   "outputs": [],
   "source": [
    "import numpy as np\n",
    "\n",
    "x = np.array([1,2.4], dtype='int8')\n"
   ]
  },
  {
   "cell_type": "code",
   "execution_count": null,
   "metadata": {},
   "outputs": [],
   "source": []
  },
  {
   "cell_type": "code",
   "execution_count": 5,
   "metadata": {},
   "outputs": [
    {
     "name": "stdout",
     "output_type": "stream",
     "text": [
      "[10. 20. 30.]\n"
     ]
    }
   ],
   "source": [
    "res = np.asarray(a,dtype=\"float\",order=\"C\")\n",
    "print(res)"
   ]
  },
  {
   "cell_type": "code",
   "execution_count": 4,
   "metadata": {},
   "outputs": [
    {
     "data": {
      "text/plain": [
       "array([0, 3, 6, 9])"
      ]
     },
     "execution_count": 4,
     "metadata": {},
     "output_type": "execute_result"
    }
   ],
   "source": [
    "import numpy as np\n",
    "np.arange(0,10,3,dtype=\"int\")"
   ]
  },
  {
   "cell_type": "code",
   "execution_count": 23,
   "metadata": {},
   "outputs": [
    {
     "name": "stdout",
     "output_type": "stream",
     "text": [
      "[[0. 0. 0.]\n",
      " [0. 0. 0.]]\n",
      "[[4.+0.j 4.+0.j 4.+0.j]\n",
      " [4.+0.j 4.+0.j 4.+0.j]\n",
      " [4.+0.j 4.+0.j 4.+0.j]]\n",
      "[[0.3783867  0.40036195 0.2753181  0.66565596 0.0177586 ]\n",
      " [0.02992611 0.43961429 0.0167905  0.47244297 0.25134465]]\n"
     ]
    }
   ],
   "source": [
    "a = np.zeros((2,3))\n",
    "print(a)\n",
    "d = np.full((3,3), 4, dtype = 'complex')\n",
    "print(d)\n",
    "e = np.random.random((2,5))\n",
    "print(e)"
   ]
  },
  {
   "cell_type": "code",
   "execution_count": 26,
   "metadata": {},
   "outputs": [
    {
     "name": "stdout",
     "output_type": "stream",
     "text": [
      "[ 0  5 10 15 20 25]\n"
     ]
    }
   ],
   "source": [
    "#sequence\n",
    "a = np.arange(0, 30, 5)\n",
    "print(a)\n",
    "\n"
   ]
  },
  {
   "cell_type": "code",
   "execution_count": 27,
   "metadata": {},
   "outputs": [
    {
     "name": "stdout",
     "output_type": "stream",
     "text": [
      "[ 1.          7.33333333 13.66666667 20.        ]\n"
     ]
    }
   ],
   "source": [
    "b = np.linspace(1,20,4)\n",
    "print(b)"
   ]
  },
  {
   "cell_type": "code",
   "execution_count": 32,
   "metadata": {},
   "outputs": [
    {
     "name": "stdout",
     "output_type": "stream",
     "text": [
      "oroginal: [[1 2 3 4]\n",
      " [5 6 7 8]\n",
      " [9 0 6 7]]\n",
      "reshape: [[[1 2 3]\n",
      "  [4 5 6]]\n",
      "\n",
      " [[7 8 9]\n",
      "  [0 6 7]]]\n"
     ]
    }
   ],
   "source": [
    "#reshape array\n",
    "arr = np.array([[1,2,3,4],\n",
    "                [5,6,7,8],\n",
    "                [9,0,6,7]])\n",
    "newarr = arr.reshape(2,2,3)\n",
    "print(\"oroginal:\",arr)\n",
    "print(\"reshape:\",newarr)"
   ]
  },
  {
   "cell_type": "code",
   "execution_count": 33,
   "metadata": {},
   "outputs": [
    {
     "name": "stdout",
     "output_type": "stream",
     "text": [
      "[1 2 3 4 5 6]\n"
     ]
    }
   ],
   "source": [
    "#flatten array\n",
    "arr = np.array([[1,2,3],[4,5,6]])\n",
    "flat_arr = arr.flatten()\n",
    "print(flat_arr)"
   ]
  },
  {
   "cell_type": "code",
   "execution_count": 34,
   "metadata": {},
   "outputs": [
    {
     "name": "stdout",
     "output_type": "stream",
     "text": [
      "Array elements in sorted order:\n",
      " [-1  0  1  2  3  4  4  5  6]\n",
      "Row-wise sorted array:\n",
      " [[ 1  2  4]\n",
      " [ 3  4  6]\n",
      " [-1  0  5]]\n",
      "Column wise sort by applying merge-sort:\n",
      " [[ 0 -1  2]\n",
      " [ 1  4  5]\n",
      " [ 3  4  6]]\n",
      "\n",
      "Array sorted by names:\n",
      " [(b'Aakash', 2009, 9. ) (b'Ajay', 2008, 8.7) (b'Hrithik', 2009, 8.5)\n",
      " (b'Pankaj', 2008, 7.9)]\n",
      "Array sorted by graduation year and then cgpa:\n",
      " [(b'Pankaj', 2008, 7.9) (b'Ajay', 2008, 8.7) (b'Hrithik', 2009, 8.5)\n",
      " (b'Aakash', 2009, 9. )]\n"
     ]
    }
   ],
   "source": [
    "# Python program to demonstrate sorting in numpy \n",
    "import numpy as np \n",
    "\n",
    "a = np.array([[1, 4, 2], \n",
    "\t\t\t\t[3, 4, 6], \n",
    "\t\t\t[0, -1, 5]]) \n",
    "\n",
    "# sorted array \n",
    "print (\"Array elements in sorted order:\\n\", \n",
    "\t\t\t\t\tnp.sort(a, axis = None)) \n",
    "\n",
    "# sort array row-wise \n",
    "print (\"Row-wise sorted array:\\n\", \n",
    "\t\t\t\tnp.sort(a, axis = 1)) \n",
    "\n",
    "# specify sort algorithm \n",
    "print (\"Column wise sort by applying merge-sort:\\n\", \n",
    "\t\t\tnp.sort(a, axis = 0, kind = 'mergesort')) \n",
    "\n",
    "# Example to show sorting of structured array \n",
    "# set alias names for dtypes \n",
    "dtypes = [('name', 'S10'), ('grad_year', int), ('cgpa', float)] \n",
    "\n",
    "# Values to be put in array \n",
    "values = [('Hrithik', 2009, 8.5), ('Ajay', 2008, 8.7), \n",
    "\t\t('Pankaj', 2008, 7.9), ('Aakash', 2009, 9.0)] \n",
    "\t\t\t\n",
    "# Creating array \n",
    "arr = np.array(values, dtype = dtypes) \n",
    "print (\"\\nArray sorted by names:\\n\", \n",
    "\t\t\tnp.sort(arr, order = 'name')) \n",
    "\t\t\t\n",
    "print (\"Array sorted by graduation year and then cgpa:\\n\", \n",
    "\t\t\t\tnp.sort(arr, order = ['grad_year', 'cgpa'])) \n"
   ]
  },
  {
   "cell_type": "code",
   "execution_count": 35,
   "metadata": {},
   "outputs": [
    {
     "name": "stdout",
     "output_type": "stream",
     "text": [
      "^C\n",
      "Note: you may need to restart the kernel to use updated packages.\n"
     ]
    }
   ],
   "source": []
  },
  {
   "cell_type": "code",
   "execution_count": 1,
   "metadata": {},
   "outputs": [
    {
     "name": "stdout",
     "output_type": "stream",
     "text": [
      "Original function:\n",
      "100 ms ± 13.2 ms per loop (mean ± std. dev. of 7 runs, 10 loops each)\n",
      "\n",
      "Numba-accelerated function:\n",
      "The slowest run took 27.00 times longer than the fastest. This could mean that an intermediate result is being cached.\n",
      "1.99 µs ± 3.6 µs per loop (mean ± std. dev. of 7 runs, 1 loop each)\n"
     ]
    }
   ],
   "source": [
    "import numba as nb\n",
    "\n",
    "# Define a function that calculates the sum of squares\n",
    "def sum_of_squares(n):\n",
    "    result = 0\n",
    "    for i in range(n):\n",
    "        result += i * i\n",
    "    return result\n",
    "\n",
    "# Define the same function, but decorate it with Numba's @jit decorator for acceleration\n",
    "@nb.jit\n",
    "def numba_sum_of_squares(n):\n",
    "    result = 0\n",
    "    for i in range(n):\n",
    "        result += i * i\n",
    "    return result\n",
    "\n",
    "# Test the original function\n",
    "print(\"Original function:\")\n",
    "%timeit sum_of_squares(1000000)\n",
    "\n",
    "# Test the Numba-accelerated function\n",
    "print(\"\\nNumba-accelerated function:\")\n",
    "%timeit numba_sum_of_squares(1000000)\n"
   ]
  },
  {
   "cell_type": "code",
   "execution_count": 2,
   "metadata": {},
   "outputs": [
    {
     "name": "stdout",
     "output_type": "stream",
     "text": [
      "[[  9.  10.  11.  12.  13.  14.  15.  16.  17.  18.]\n",
      " [ 19.  20.  21.  22.  23.  24.  25.  26.  27.  28.]\n",
      " [ 29.  30.  31.  32.  33.  34.  35.  36.  37.  38.]\n",
      " [ 39.  40.  41.  42.  43.  44.  45.  46.  47.  48.]\n",
      " [ 49.  50.  51.  52.  53.  54.  55.  56.  57.  58.]\n",
      " [ 59.  60.  61.  62.  63.  64.  65.  66.  67.  68.]\n",
      " [ 69.  70.  71.  72.  73.  74.  75.  76.  77.  78.]\n",
      " [ 79.  80.  81.  82.  83.  84.  85.  86.  87.  88.]\n",
      " [ 89.  90.  91.  92.  93.  94.  95.  96.  97.  98.]\n",
      " [ 99. 100. 101. 102. 103. 104. 105. 106. 107. 108.]]\n"
     ]
    }
   ],
   "source": [
    "from numba import jit\n",
    "import numpy as np\n",
    "\n",
    "x = np.arange(100).reshape(10, 10)\n",
    "\n",
    "@jit\n",
    "def go_fast(a): # Function is compiled to machine code when called the first time\n",
    "    trace = 0.0\n",
    "    for i in range(a.shape[0]):   # Numba likes loops\n",
    "        trace += np.tanh(a[i, i]) # Numba likes NumPy functions\n",
    "    return a + trace              # Numba likes NumPy broadcasting\n",
    "\n",
    "print(go_fast(x))"
   ]
  },
  {
   "cell_type": "code",
   "execution_count": 10,
   "metadata": {},
   "outputs": [
    {
     "name": "stdout",
     "output_type": "stream",
     "text": [
      "[0. 3. 6. 9.]\n"
     ]
    }
   ],
   "source": [
    "arr=np.arange(0,10,3,dtype=\"float\")\n",
    "print(arr)"
   ]
  },
  {
   "cell_type": "code",
   "execution_count": 14,
   "metadata": {},
   "outputs": [
    {
     "data": {
      "text/plain": [
       "(array([ 0. ,  2.5,  5. ,  7.5, 10. ]), 2.5)"
      ]
     },
     "execution_count": 14,
     "metadata": {},
     "output_type": "execute_result"
    }
   ],
   "source": [
    "np.linspace(0,10,5,endpoint=\"false\",retstep=\"true\")"
   ]
  },
  {
   "cell_type": "code",
   "execution_count": 22,
   "metadata": {},
   "outputs": [
    {
     "name": "stdout",
     "output_type": "stream",
     "text": [
      "[1.00000000e+00 1.00793684e+01 1.01593667e+02 1.02400000e+03\n",
      " 1.03212732e+04 1.04031915e+05]\n"
     ]
    }
   ],
   "source": [
    "arr=np.logspace(0,20,num=6,endpoint=False,base=2)\n",
    "print(arr)"
   ]
  },
  {
   "cell_type": "code",
   "execution_count": 9,
   "metadata": {},
   "outputs": [
    {
     "name": "stdout",
     "output_type": "stream",
     "text": [
      "[[10 20 30]\n",
      " [20 30 40]]\n"
     ]
    },
    {
     "data": {
      "text/plain": [
       "array([[10, 20],\n",
       "       [30, 20],\n",
       "       [30, 40]])"
      ]
     },
     "execution_count": 9,
     "metadata": {},
     "output_type": "execute_result"
    }
   ],
   "source": [
    "import numpy as np\n",
    "array= np.array([[10,20,30],[20,30,40]])\n",
    "print(array)\n",
    "np.reshape(array,(3,2))"
   ]
  },
  {
   "cell_type": "code",
   "execution_count": 24,
   "metadata": {},
   "outputs": [
    {
     "data": {
      "text/plain": [
       "array([[1., 0., 0., 0., 0., 0.],\n",
       "       [0., 1., 0., 0., 0., 0.],\n",
       "       [0., 0., 1., 0., 0., 0.],\n",
       "       [0., 0., 0., 1., 0., 0.],\n",
       "       [0., 0., 0., 0., 1., 0.],\n",
       "       [0., 0., 0., 0., 0., 1.]])"
      ]
     },
     "execution_count": 24,
     "metadata": {},
     "output_type": "execute_result"
    }
   ],
   "source": [
    "np.eye((6))"
   ]
  },
  {
   "cell_type": "code",
   "execution_count": 43,
   "metadata": {},
   "outputs": [
    {
     "name": "stdout",
     "output_type": "stream",
     "text": [
      "a[0,1,2]= 40\n"
     ]
    }
   ],
   "source": [
    "a = np.array([[[10,20,30,40],[20,30,40,50]],\n",
    "[[20,30,40,80],[30,40,50,60]]])\n",
    "print(\"a[0,1,2]=\",a[0,1,2])"
   ]
  },
  {
   "cell_type": "code",
   "execution_count": 33,
   "metadata": {},
   "outputs": [
    {
     "data": {
      "text/plain": [
       "array([[10, 30, 40],\n",
       "       [ 1,  5, 15]])"
      ]
     },
     "execution_count": 33,
     "metadata": {},
     "output_type": "execute_result"
    }
   ],
   "source": [
    "import numpy as np\n",
    "a=np.array([[40,10,30,],[1,5,15]])\n",
    "np.sort(a,axis=1)"
   ]
  },
  {
   "cell_type": "code",
   "execution_count": 4,
   "metadata": {},
   "outputs": [
    {
     "name": "stdout",
     "output_type": "stream",
     "text": [
      "['a' '20' '9']\n",
      "<U2\n"
     ]
    }
   ],
   "source": [
    "import numpy as np\n",
    "a=np.array(['a','20','9'])\n",
    "print(a)\n",
    "print(a.dtype)"
   ]
  },
  {
   "cell_type": "code",
   "execution_count": 22,
   "metadata": {},
   "outputs": [
    {
     "name": "stdout",
     "output_type": "stream",
     "text": [
      "['8' '20' '9']\n",
      "<U2\n",
      "None\n"
     ]
    }
   ],
   "source": [
    "import numpy as np\n",
    "a=np.array(['8','20','9'])\n",
    "print(a)\n",
    "print(a.dtype)\n",
    "c=a.copy()\n",
    "c[2]=30\n",
    "print(c.base)"
   ]
  },
  {
   "cell_type": "code",
   "execution_count": 25,
   "metadata": {},
   "outputs": [
    {
     "data": {
      "text/plain": [
       "array([[ 0,  1,  7,  8],\n",
       "       [ 2,  3,  9, 10],\n",
       "       [ 4,  5, 11, 12]])"
      ]
     },
     "execution_count": 25,
     "metadata": {},
     "output_type": "execute_result"
    }
   ],
   "source": [
    "import numpy as np\n",
    "a=np.arange(6).reshape(3,2)\n",
    "a\n",
    "b=np.arange(7,13).reshape(3,2)\n",
    "b\n",
    "#np.concatenate((a,b))\n",
    "#np.concatenate((a,b),axis=1)\n",
    "#np.stack((a,b))\n",
    "np.hstack((a,b))\n",
    "#p.dstack((a,b))"
   ]
  },
  {
   "cell_type": "code",
   "execution_count": 4,
   "metadata": {},
   "outputs": [
    {
     "data": {
      "text/plain": [
       "array([10, 20, 30, 50, 70])"
      ]
     },
     "execution_count": 4,
     "metadata": {},
     "output_type": "execute_result"
    }
   ],
   "source": [
    "import numpy as np\n",
    "a=np.array([20,30,50,70,10])\n",
    "np.sort(a)\n",
    "\n"
   ]
  },
  {
   "cell_type": "code",
   "execution_count": 7,
   "metadata": {},
   "outputs": [
    {
     "data": {
      "text/plain": [
       "array([[ 20,  10,  50],\n",
       "       [ 70,  30, 100]])"
      ]
     },
     "execution_count": 7,
     "metadata": {},
     "output_type": "execute_result"
    }
   ],
   "source": [
    "import numpy as np\n",
    "b=np.array([[20,30,50], [70,10,100]])\n",
    "np.sort(b,axis=0)\n"
   ]
  },
  {
   "cell_type": "code",
   "execution_count": 17,
   "metadata": {},
   "outputs": [
    {
     "ename": "ValueError",
     "evalue": "setting an array element with a sequence. The requested array has an inhomogeneous shape after 1 dimensions. The detected shape was (2,) + inhomogeneous part.",
     "output_type": "error",
     "traceback": [
      "\u001b[1;31m---------------------------------------------------------------------------\u001b[0m",
      "\u001b[1;31mValueError\u001b[0m                                Traceback (most recent call last)",
      "Cell \u001b[1;32mIn[17], line 3\u001b[0m\n\u001b[0;32m      1\u001b[0m \u001b[38;5;28;01mimport\u001b[39;00m \u001b[38;5;21;01mnumpy\u001b[39;00m \u001b[38;5;28;01mas\u001b[39;00m \u001b[38;5;21;01mnp\u001b[39;00m\n\u001b[0;32m      2\u001b[0m d\u001b[38;5;241m=\u001b[39mnp\u001b[38;5;241m.\u001b[39mdtype([(\u001b[38;5;124m'\u001b[39m\u001b[38;5;124mname\u001b[39m\u001b[38;5;124m'\u001b[39m,\u001b[38;5;124m'\u001b[39m\u001b[38;5;124mS10\u001b[39m\u001b[38;5;124m'\u001b[39m),(\u001b[38;5;124m'\u001b[39m\u001b[38;5;124mperc\u001b[39m\u001b[38;5;124m'\u001b[39m,\u001b[38;5;28mfloat\u001b[39m)])\n\u001b[1;32m----> 3\u001b[0m stud\u001b[38;5;241m=\u001b[39m\u001b[43mnp\u001b[49m\u001b[38;5;241;43m.\u001b[39;49m\u001b[43marray\u001b[49m\u001b[43m(\u001b[49m\u001b[43m[\u001b[49m\u001b[43m(\u001b[49m\u001b[38;5;124;43m\"\u001b[39;49m\u001b[38;5;124;43mabc\u001b[39;49m\u001b[38;5;124;43m\"\u001b[39;49m\u001b[43m,\u001b[49m\u001b[38;5;241;43m90.3\u001b[39;49m\u001b[43m,\u001b[49m\u001b[43m(\u001b[49m\u001b[38;5;124;43m\"\u001b[39;49m\u001b[38;5;124;43mdef\u001b[39;49m\u001b[38;5;124;43m\"\u001b[39;49m\u001b[43m,\u001b[49m\u001b[38;5;241;43m56.7\u001b[39;49m\u001b[43m)\u001b[49m\u001b[43m)\u001b[49m\u001b[43m,\u001b[49m\u001b[43m(\u001b[49m\u001b[38;5;124;43m\"\u001b[39;49m\u001b[38;5;124;43mghi\u001b[39;49m\u001b[38;5;124;43m\"\u001b[39;49m\u001b[43m,\u001b[49m\u001b[38;5;241;43m56.9\u001b[39;49m\u001b[43m)\u001b[49m\u001b[43m]\u001b[49m\u001b[43m)\u001b[49m\n\u001b[0;32m      4\u001b[0m stud\n",
      "\u001b[1;31mValueError\u001b[0m: setting an array element with a sequence. The requested array has an inhomogeneous shape after 1 dimensions. The detected shape was (2,) + inhomogeneous part."
     ]
    }
   ],
   "source": [
    "import numpy as np\n",
    "d=np.dtype([('name','S10'),('perc',float)])\n",
    "stud=np.array([(\"abc\",90.3,(\"def\",56.7)),(\"ghi\",56.9)])\n",
    "stud"
   ]
  },
  {
   "cell_type": "code",
   "execution_count": 16,
   "metadata": {},
   "outputs": [
    {
     "ename": "SyntaxError",
     "evalue": "invalid syntax (3118448607.py, line 1)",
     "output_type": "error",
     "traceback": [
      "\u001b[1;36m  Cell \u001b[1;32mIn[16], line 1\u001b[1;36m\u001b[0m\n\u001b[1;33m    print(2***2)\u001b[0m\n\u001b[1;37m             ^\u001b[0m\n\u001b[1;31mSyntaxError\u001b[0m\u001b[1;31m:\u001b[0m invalid syntax\n"
     ]
    }
   ],
   "source": [
    "print(2***2)"
   ]
  },
  {
   "cell_type": "code",
   "execution_count": 27,
   "metadata": {},
   "outputs": [
    {
     "name": "stdout",
     "output_type": "stream",
     "text": [
      "[[1 2 8]\n",
      " [4 5 6]] [[2 3 4]\n",
      " [2 3 4]]\n"
     ]
    },
    {
     "data": {
      "text/plain": [
       "array([[12, 23,  7],\n",
       "       [12, 23,  7]])"
      ]
     },
     "execution_count": 27,
     "metadata": {},
     "output_type": "execute_result"
    }
   ],
   "source": [
    "import numpy as np\n",
    "a=np.array([[1,2,8],[4,5,6]])\n",
    "b=np.array([[2,3,4],[2,3,4]])\n",
    "print(a,b)\n",
    "np.shape(a)\n",
    "np.shape(b)\n",
    "np.add(a,b)\n",
    "c=np.array([10,20,3])\n",
    "np.shape(c)\n",
    "np.add(b,c)"
   ]
  },
  {
   "cell_type": "code",
   "execution_count": 30,
   "metadata": {},
   "outputs": [
    {
     "name": "stdout",
     "output_type": "stream",
     "text": [
      "[10]\n"
     ]
    },
    {
     "data": {
      "text/plain": [
       "array([[-9, -8, -2],\n",
       "       [-6, -5, -4]])"
      ]
     },
     "execution_count": 30,
     "metadata": {},
     "output_type": "execute_result"
    }
   ],
   "source": [
    "e=np.array([10])\n",
    "print(e)\n",
    "np.shape(e)\n",
    "np.subtract(a,e)"
   ]
  },
  {
   "cell_type": "code",
   "execution_count": 12,
   "metadata": {},
   "outputs": [
    {
     "name": "stdout",
     "output_type": "stream",
     "text": [
      "array is type: <class 'numpy.ndarray'>\n",
      "no.of dem: 2\n",
      "shape of array: (2, 3)\n",
      "size of array: 6\n",
      "array stores elements in type: float64\n"
     ]
    }
   ],
   "source": [
    "import numpy as np\n",
    "#create ary obj\n",
    "arr =np.array ( [[1.0, 2.2, 3.2],\n",
    "                [5.8, 6.8, 2.7]] )\n",
    "print(\"array is type:\",type(arr))\n",
    "print(\"no.of dem:\",arr.ndim)\n",
    "print(\"shape of array:\",arr.shape)\n",
    "print(\"size of array:\",arr.size)\n",
    "print(\"array stores elements in type:\",arr.dtype)"
   ]
  },
  {
   "cell_type": "code",
   "execution_count": 1,
   "metadata": {},
   "outputs": [
    {
     "name": "stdout",
     "output_type": "stream",
     "text": [
      "0\n"
     ]
    }
   ],
   "source": [
    "import numpy as np\n",
    "arr = np.random.randint(2, size = (10,))\n",
    "indx = np.where(arr==2)[0]\n",
    "print(len(indx))"
   ]
  },
  {
   "cell_type": "code",
   "execution_count": 2,
   "metadata": {},
   "outputs": [
    {
     "name": "stdout",
     "output_type": "stream",
     "text": [
      "3.0,2.0,"
     ]
    }
   ],
   "source": [
    "import numpy as np\n",
    "a = np.array([[3, 2], [3, -1], [3, 5]])\n",
    "for x in a.mean(axis=0):\n",
    "    print(x, end=',')"
   ]
  },
  {
   "cell_type": "code",
   "execution_count": 6,
   "metadata": {},
   "outputs": [
    {
     "name": "stdout",
     "output_type": "stream",
     "text": [
      "None\n"
     ]
    }
   ],
   "source": [
    "# import the important module in python \n",
    "import numpy as np \n",
    "\t\t\n",
    "# make matrix with numpy \n",
    "gfg = np.matrix('[64, 1; 12, 9; 5, 3]') \n",
    "\t\t\n",
    "# applying matrix.resize() method \n",
    "geeks = gfg.resize((2, 3)) \n",
    "\t\n",
    "print(geeks) \n"
   ]
  },
  {
   "cell_type": "code",
   "execution_count": 8,
   "metadata": {},
   "outputs": [
    {
     "name": "stdout",
     "output_type": "stream",
     "text": [
      "[array([[ 0.,  1.],\n",
      "       [ 4.,  5.],\n",
      "       [ 8.,  9.],\n",
      "       [12., 13.]]), array([[ 2.,  3.],\n",
      "       [ 6.,  7.],\n",
      "       [10., 11.],\n",
      "       [14., 15.]])]\n"
     ]
    }
   ],
   "source": [
    "import numpy as np\n",
    "arr = np.arange(16.0).reshape(4,4)\n",
    "nar = np.hsplit(arr,2)\n",
    "print(nar)"
   ]
  },
  {
   "cell_type": "code",
   "execution_count": 18,
   "metadata": {},
   "outputs": [
    {
     "name": "stdout",
     "output_type": "stream",
     "text": [
      "\n",
      " A sequential array with a negative step: \n",
      " [10  8  6  4  2]\n",
      "\n",
      " Elements at these indices are:\n",
      " [8 2 4]\n"
     ]
    }
   ],
   "source": [
    "import numpy as np \n",
    "# Create a sequence of integers from 10 to 1 with a step of -2 \n",
    "a = np.arange(10, 1, -2) \n",
    "print(\"\\n A sequential array with a negative step: \\n\",a) \n",
    "# Indexes are specified inside the np.array method. \n",
    "newarr = a[np.array([1, 4, 3 ])] \n",
    "print(\"\\n Elements at these indices are:\\n\",newarr)\n"
   ]
  },
  {
   "cell_type": "code",
   "execution_count": 2,
   "metadata": {},
   "outputs": [],
   "source": [
    "import numpy as np\n",
    "arr = [1, True, 2, 2, 3]\n",
    "x, y = np.unique(arr, return_counts = True)"
   ]
  },
  {
   "cell_type": "code",
   "execution_count": 8,
   "metadata": {},
   "outputs": [
    {
     "ename": "TypeError",
     "evalue": "Cannot interpret '6' as a data type",
     "output_type": "error",
     "traceback": [
      "\u001b[1;31m---------------------------------------------------------------------------\u001b[0m",
      "\u001b[1;31mTypeError\u001b[0m                                 Traceback (most recent call last)",
      "Cell \u001b[1;32mIn[8], line 2\u001b[0m\n\u001b[0;32m      1\u001b[0m \u001b[38;5;28;01mimport\u001b[39;00m \u001b[38;5;21;01mnumpy\u001b[39;00m \u001b[38;5;28;01mas\u001b[39;00m \u001b[38;5;21;01mnp\u001b[39;00m\n\u001b[1;32m----> 2\u001b[0m arr \u001b[38;5;241m=\u001b[39m \u001b[43mnp\u001b[49m\u001b[38;5;241;43m.\u001b[39;49m\u001b[43marray\u001b[49m\u001b[43m(\u001b[49m\u001b[38;5;241;43m2\u001b[39;49m\u001b[43m,\u001b[49m\u001b[38;5;241;43m6\u001b[39;49m\u001b[43m)\u001b[49m\n\u001b[0;32m      3\u001b[0m \u001b[38;5;28mprint\u001b[39m(arr)\n",
      "\u001b[1;31mTypeError\u001b[0m: Cannot interpret '6' as a data type"
     ]
    }
   ],
   "source": [
    "import numpy as np\n",
    "arr = np.array(2,6)\n",
    "print(arr)"
   ]
  },
  {
   "cell_type": "code",
   "execution_count": null,
   "metadata": {},
   "outputs": [],
   "source": []
  },
  {
   "cell_type": "code",
   "execution_count": 15,
   "metadata": {},
   "outputs": [
    {
     "name": "stdout",
     "output_type": "stream",
     "text": [
      "\n",
      " Array is:\n",
      "  [ 0  1  2  3  4  5  6  7  8  9 10 11 12 13 14 15 16 17 18 19]\n",
      "\n",
      " a[15]= 15\n",
      "\n",
      " a[-8:17:1] =  [12 14]\n",
      "\n",
      " a[10:] =  [10 11 12 13 14 15 16 17 18 19]\n"
     ]
    }
   ],
   "source": [
    "import numpy as np \n",
    "# Arrange elements from 0 to 19 \n",
    "a = np.arange(20) \n",
    "print(\"\\n Array is:\\n \",a) \n",
    "print(\"\\n a[15]=\",a[15]) \n",
    "# a[start:stop:step] \n",
    "print(\"\\n a[-8:17:1] = \",a[-8:15:2]) \n",
    "print(\"\\n a[10:] = \",a[10:])\n"
   ]
  },
  {
   "cell_type": "code",
   "execution_count": 1,
   "metadata": {},
   "outputs": [],
   "source": [
    "import numpy as np\n",
    "\n",
    "x = np.array([1,2.4], dtype='int8')\n",
    "\n",
    "\n"
   ]
  },
  {
   "cell_type": "code",
   "execution_count": null,
   "metadata": {},
   "outputs": [],
   "source": []
  },
  {
   "cell_type": "code",
   "execution_count": null,
   "metadata": {},
   "outputs": [],
   "source": []
  },
  {
   "cell_type": "code",
   "execution_count": null,
   "metadata": {},
   "outputs": [],
   "source": []
  },
  {
   "cell_type": "code",
   "execution_count": null,
   "metadata": {},
   "outputs": [],
   "source": []
  },
  {
   "cell_type": "code",
   "execution_count": null,
   "metadata": {},
   "outputs": [],
   "source": []
  },
  {
   "cell_type": "code",
   "execution_count": null,
   "metadata": {},
   "outputs": [],
   "source": []
  },
  {
   "cell_type": "code",
   "execution_count": null,
   "metadata": {},
   "outputs": [],
   "source": [
    "from numba import jit\n",
    "import numpy as np\n",
    "\n",
    "x = np.arange(100).reshape(10, 10)\n",
    "\n",
    "@jit\n",
    "def go_fast(a): # Function is compiled to machine code when called the first time\n",
    "    trace = 0.0\n",
    "    for i in range(a.shape[0]):   # Numba likes loops\n",
    "        trace += np.tanh(a[i, i]) # Numba likes NumPy functions\n",
    "    return a + trace              # Numba likes NumPy broadcasting\n",
    "\n",
    "print(go_fast(x))"
   ]
  }
 ],
 "metadata": {
  "kernelspec": {
   "display_name": "Python 3",
   "language": "python",
   "name": "python3"
  },
  "language_info": {
   "codemirror_mode": {
    "name": "ipython",
    "version": 3
   },
   "file_extension": ".py",
   "mimetype": "text/x-python",
   "name": "python",
   "nbconvert_exporter": "python",
   "pygments_lexer": "ipython3",
   "version": "3.12.3"
  }
 },
 "nbformat": 4,
 "nbformat_minor": 2
}
